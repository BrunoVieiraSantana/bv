{
  "cells": [
    {
      "cell_type": "raw",
      "metadata": {},
      "source": [
        "---\n",
        "title: \"Projetos\"\n",
        "engine: jupyter\n",
        "---"
      ],
      "id": "d19fe105"
    },
    {
      "cell_type": "markdown",
      "metadata": {},
      "source": [
        "## Criação de aplicativo multiplataforma de gerenciamento de gastos financeiros\n",
        "##### Visão geral\n",
        "<div style=\"text-align: justify;\">\n",
        "Este projeto foi concretizado por meio de colaboração, visando o aprimoramento das minhas habilidades interpessoais no trabalho em equipe. \n",
        "<p></p>Utilizando Python, KivyMD e Firebase, foi possível criar um aplicativo com uma interface gráfica receptiva e funcional.\n",
        "</div>\n",
        "\n",
        "![](present.mp4)\n",
        "<div style=\"text-align: justify;\">\n",
        "<p></p>O desenvolvimento deste aplicativo de finanças pessoais, teve como foco o gerenciamento de gastos financeiros, e foi executado com a finalidade de proporcionar a máxima comodidade aos usuários, buscando facilitar a experiência no controle de suas finanças pessoais.\n",
        "</div>\n",
        "\n",
        "Funcionalidades:\n",
        "<p></p>\n",
        "- Relatórios Visuais\n",
        "- Gráficos Responsivos\n",
        "- Cadastro e Gerenciamento de Usuários\n",
        "\n",
        "Tecnologias utilizadas\n",
        "<p></p>\n",
        "- Python\n",
        "- KivyMD\n",
        "- Firebase\n",
        "\n",
        "<p></p>\n",
        "Interface gráfica utilizada na versão de computador\n",
        "![](interface.jpg)\n",
        "<p></p>\n",
        "Desenvolvedores\n",
        "\n",
        "![](Just.png)\n",
        "\n",
        "## Criação de software de gerenciamento de Biblioteca\n",
        "##### Visão geral\n",
        "<div style=\"text-align: justify;\">\n",
        "Este projeto em Python apresenta uma aplicação de interface gráfica utilizando a biblioteca Tkinter.\n",
        "</div>\n",
        "\n",
        "Sistema de biblioteca - Recursos:\n",
        "<p></p>\n",
        "- Login\n",
        "- Criação de novos usuários\n",
        "- Recuperação de senha\n",
        "- Gerenciamento de aluguéis\n",
        "- Busca de livros\n",
        "\n",
        "\n",
        "\n",
        "\n",
        "<div style=\"text-align: justify;\">\n",
        "O banco de dados utilizado foi o PostgreSQL, que se torna fundamental para o armazenamento de informações sobre livros, usuários e aluguéis. A biblioteca psycopg2 é empregada para facilitar a comunicação eficiente com o banco de dados.\n",
        "</div>\n",
        "\n",
        "<div style=\"text-align: justify;\">\n",
        "A estrutura do código foi organizada em classes e funções, promovendo uma manutenção facilitada e permitindo futuras expansões do projeto.\n",
        "</div>\n",
        "\n",
        "<div style=\"text-align: justify;\">\n",
        "Este projeto tem como finalidade destacar a utilização da linguagem de programação Python e demonstrar a aplicação prática de conceitos fundamentais de interface gráfica e gerenciamento de banco de dados em um contexto real.\n",
        "</div>\n",
        "\n",
        "Bibliotecas utilizadas"
      ],
      "id": "284ab74a"
    },
    {
      "cell_type": "code",
      "metadata": {},
      "source": [
        "import customtkinter\n",
        "import tkinter\n",
        "import re"
      ],
      "id": "088f0eea",
      "execution_count": null,
      "outputs": []
    },
    {
      "cell_type": "markdown",
      "metadata": {},
      "source": [
        "Interface de úsuario\n",
        "\n",
        "![](Biblioteca.jpg)"
      ],
      "id": "2faf956c"
    }
  ],
  "metadata": {
    "kernelspec": {
      "name": "python3",
      "language": "python",
      "display_name": "Python 3 (ipykernel)"
    }
  },
  "nbformat": 4,
  "nbformat_minor": 5
}